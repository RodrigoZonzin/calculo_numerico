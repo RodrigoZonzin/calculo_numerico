{
 "cells": [
  {
   "cell_type": "code",
   "execution_count": 1,
   "id": "70cbfb4f",
   "metadata": {},
   "outputs": [
    {
     "name": "stdout",
     "output_type": "stream",
     "text": [
      "importing Jupyter notebook from triangular.ipynb\n"
     ]
    }
   ],
   "source": [
    "import numpy as np\n",
    "import import_ipynb\n",
    "from triangular import *\n",
    "import matplotlib.pyplot as plt"
   ]
  },
  {
   "cell_type": "markdown",
   "id": "20667ed5",
   "metadata": {},
   "source": [
    "## Método de Gauss\n",
    "\n",
    "#### 1. Escalonar a matriz\n",
    "\n",
    "Para $k = 1, ... , n-1$ \n",
    "\n",
    "Para $i = k+1, ... , n$ \n",
    "\n",
    "$m = \\frac{ A_{ik} } { a_{kk} } $\n",
    "\n",
    "$a_{ik} = 0$\n",
    "\n",
    "Para  $j = k +1, .... , n$\n",
    "\n",
    "$A_{ij} = a_{ij} - m_{kj}$\n",
    "\n",
    "$b_i = b_i - mb_k$\n",
    "    \n",
    "#### 2. Resolver pelo método da triangulação inferior\n"
   ]
  },
  {
   "cell_type": "code",
   "execution_count": 12,
   "id": "2c31dcc8",
   "metadata": {},
   "outputs": [],
   "source": [
    "\n",
    "\n",
    "def gauss(A, b):\n",
    "    n = A.shape[0]\n",
    "    \n",
    "    for k in range(0, n-1):\n",
    "        \n",
    "        for i in range(k+1, n):\n",
    "            m = - A[i][k] / A[k][k]\n",
    "            \n",
    "            \n",
    "            for j in range(k+1, n):\n",
    "                A[i][j] = m* A[k][j] +A[i][j]\n",
    "            \n",
    "            b[i] = m* b[k] + b[i]\n",
    "            \n",
    "            A[i][k] = 0\n",
    "            np.matrix.view(A)\n",
    "            \n",
    "            \n",
    "    #x = np.zeros(n)\n",
    "    x = triang_inf(A, b);\n",
    "    return x"
   ]
  },
  {
   "cell_type": "code",
   "execution_count": 15,
   "id": "5d71e823",
   "metadata": {},
   "outputs": [],
   "source": [
    "A1 = np.array([[2, 1], [1, -3]])\n",
    "\n",
    "b1 = np.array([3, -2])\n",
    "\n",
    "x = gauss(A1, b1)"
   ]
  },
  {
   "cell_type": "code",
   "execution_count": 14,
   "id": "7b8e9076",
   "metadata": {},
   "outputs": [
    {
     "name": "stdout",
     "output_type": "stream",
     "text": [
      "[1. 1.]\n"
     ]
    }
   ],
   "source": [
    "print(x)"
   ]
  },
  {
   "cell_type": "code",
   "execution_count": null,
   "id": "a23c47e1",
   "metadata": {},
   "outputs": [],
   "source": []
  }
 ],
 "metadata": {
  "kernelspec": {
   "display_name": "Python 3 (ipykernel)",
   "language": "python",
   "name": "python3"
  },
  "language_info": {
   "codemirror_mode": {
    "name": "ipython",
    "version": 3
   },
   "file_extension": ".py",
   "mimetype": "text/x-python",
   "name": "python",
   "nbconvert_exporter": "python",
   "pygments_lexer": "ipython3",
   "version": "3.9.13"
  }
 },
 "nbformat": 4,
 "nbformat_minor": 5
}
