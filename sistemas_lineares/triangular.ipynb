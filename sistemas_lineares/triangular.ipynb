{
 "cells": [
  {
   "cell_type": "markdown",
   "id": "235c7418",
   "metadata": {},
   "source": [
    "## Substituições retroativas\n",
    "Para uma matriz triangular inferior A, calculamos $ Ax = b $ da seguinte forma\n",
    "\n",
    "$$\n",
    "x_i = \\frac{b_i - \\sum_{j = i +1}^{n}A_{ii}x_j}{A_{ii}}\n",
    "$$\n"
   ]
  },
  {
   "cell_type": "code",
   "execution_count": 1,
   "id": "7fbc2fc0",
   "metadata": {},
   "outputs": [],
   "source": [
    "import numpy as np"
   ]
  },
  {
   "cell_type": "code",
   "execution_count": 17,
   "id": "6b2b5af8",
   "metadata": {},
   "outputs": [],
   "source": [
    "def triang_inf(A, b):\n",
    "    #por definição A: MxN <==> M = N \n",
    "    n = A.shape[0]\n",
    "    \n",
    "    x = np.zeros(n)\n",
    "    #print(x)\n",
    "    \n",
    "    for i in range(n-1, -1, -1):\n",
    "        somatorio = 0\n",
    "        for j in range(i+1, n):\n",
    "            somatorio += A[i][j]*x[j]\n",
    "        x[i] = (b[i] - somatorio) / A[i][i]\n",
    "    return x"
   ]
  },
  {
   "cell_type": "code",
   "execution_count": 18,
   "id": "5e4e16eb",
   "metadata": {},
   "outputs": [
    {
     "name": "stdout",
     "output_type": "stream",
     "text": [
      "[-3.  0.  2.  4.]\n"
     ]
    }
   ],
   "source": [
    "A = np.array([[5, -2, 6, 1],\n",
    "              [0, 3, 7, -4],\n",
    "              [0, 0, 4, 5],\n",
    "              [0, 0, 0, 2]])\n",
    "\n",
    "b = [1, -2, 28, 8]\n",
    "\n",
    "x = triang_inf(A, b)\n",
    "#print(x)"
   ]
  },
  {
   "cell_type": "markdown",
   "id": "a864724c",
   "metadata": {},
   "source": [
    "## Substituições sucessivas\n",
    "$$x_i = \\frac{b_i - \\sum_{j = 1}^{i-1}A_{ij}x_j}{A_{ii}}$$"
   ]
  },
  {
   "cell_type": "code",
   "execution_count": 26,
   "id": "8bf6c972",
   "metadata": {},
   "outputs": [],
   "source": [
    "def triang_sup(A, b):\n",
    "    #por definição A: MxN <==> M = N \n",
    "    n = A.shape[0]\n",
    "    \n",
    "    x = np.zeros(n)\n",
    "    \n",
    "    for i in range(n):\n",
    "        somatorio = 0\n",
    "        for j in range(i):\n",
    "            somatorio += A[i][j]*x[j]\n",
    "        x[i] = (b[i] - somatorio) / A[i][i]\n",
    "    return x"
   ]
  },
  {
   "cell_type": "code",
   "execution_count": 27,
   "id": "957554a2",
   "metadata": {},
   "outputs": [],
   "source": [
    "A = np.array([[2, 0, 0, 0],\n",
    "              [3, 5, 0, 0],\n",
    "              [1, -6, 8, 0],\n",
    "              [-1, 4, -3, 9]])\n",
    "b = np.array([4, 1, 48, 6])\n",
    "x = triang_sup(A,b)\n",
    "#print(x)"
   ]
  },
  {
   "cell_type": "code",
   "execution_count": null,
   "id": "6ecd3ee3",
   "metadata": {},
   "outputs": [],
   "source": []
  }
 ],
 "metadata": {
  "kernelspec": {
   "display_name": "Python 3 (ipykernel)",
   "language": "python",
   "name": "python3"
  },
  "language_info": {
   "codemirror_mode": {
    "name": "ipython",
    "version": 3
   },
   "file_extension": ".py",
   "mimetype": "text/x-python",
   "name": "python",
   "nbconvert_exporter": "python",
   "pygments_lexer": "ipython3",
   "version": "3.9.13"
  }
 },
 "nbformat": 4,
 "nbformat_minor": 5
}
