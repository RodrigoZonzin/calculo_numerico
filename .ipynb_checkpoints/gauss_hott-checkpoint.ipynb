{
 "cells": [
  {
   "cell_type": "code",
   "execution_count": 1,
   "id": "15f2e7cb",
   "metadata": {},
   "outputs": [],
   "source": [
    "import numpy as np"
   ]
  },
  {
   "cell_type": "code",
   "execution_count": 46,
   "id": "1337da24",
   "metadata": {},
   "outputs": [
    {
     "data": {
      "text/plain": [
       "array([[3.],\n",
       "       [3.],\n",
       "       [1.]])"
      ]
     },
     "execution_count": 46,
     "metadata": {},
     "output_type": "execute_result"
    }
   ],
   "source": [
    "def gauss_without_pivot(A: np.ndarray, b: np.ndarray) -> np.ndarray:\n",
    "    A = A.copy()\n",
    "    b = b.copy().reshape(-1)\n",
    "    \n",
    "    n = A.shape[0]\n",
    "    \n",
    "    assert(b.shape[0] == n)\n",
    "\n",
    "    X = np.zeros(shape=n)\n",
    "    \n",
    "    X[-1] = b[-1] / A[-1][-1]\n",
    "    \n",
    "    for i in range(n - 1, -1, -1):\n",
    "        s = 0\n",
    "\n",
    "        for j in range(i + 1, n):\n",
    "            s = s + A[i][j] * X[j]\n",
    "\n",
    "        X[i] = (b[i] - s) / A[i][i]\n",
    "        \n",
    "    X = X.reshape(-1, 1)\n",
    "    \n",
    "    return X\n",
    "\n",
    "A = np.array([ [ 1, 2, 3 ],\n",
    "               [ 0, 2, 3 ], \n",
    "               [ 0, 0, 3 ] ])\n",
    "\n",
    "b = np.array([ [ 12 ],\n",
    "               [ 9 ],\n",
    "               [ 3 ] ])\n",
    "\n",
    "gauss_without_pivot(A, b)"
   ]
  },
  {
   "cell_type": "code",
   "execution_count": 50,
   "id": "3f46e41f",
   "metadata": {},
   "outputs": [
    {
     "data": {
      "text/plain": [
       "array([[3.],\n",
       "       [3.],\n",
       "       [1.]])"
      ]
     },
     "execution_count": 50,
     "metadata": {},
     "output_type": "execute_result"
    }
   ],
   "source": [
    "def gauss_with_pivot(A: np.ndarray, b: np.ndarray) -> np.ndarray:\n",
    "    A = A.copy()\n",
    "    b = b.copy().reshape(-1)\n",
    "    \n",
    "    n = A.shape[0]\n",
    "    \n",
    "    assert(b.shape[0] == n)\n",
    "\n",
    "    for k in range(n - 1):\n",
    "        pivot = A[k][k]\n",
    "        idx_pivot = k\n",
    "        \n",
    "        for i in range(k + 1, n):\n",
    "            if np.abs(A[i][k]) > np.abs(pivot):\n",
    "                pivot = A[i][k]\n",
    "                idx_pivot = i\n",
    "        \n",
    "        if pivot == 0:\n",
    "            return\n",
    "        \n",
    "        if idx_pivot != k:\n",
    "            for j in range(n):\n",
    "                temp = A[k][j]\n",
    "                A[k][j] = A[idx_pivot][j]\n",
    "                A[idx_pivot][j] = temp\n",
    "\n",
    "            temp = b[k]\n",
    "            b[k] = b[idx_pivot]\n",
    "            b[idx_pivot] = temp\n",
    "            \n",
    "        for i in range(k + 1, n):\n",
    "            m = A[i][k] / A[k][k]\n",
    "            A[i][k] = 0\n",
    "            \n",
    "            for j in range(k + 1, n):\n",
    "                A[i][j] = A[i][j] - m * A[k][j]\n",
    "            \n",
    "            b[i] = b[i] - m * b[k]\n",
    "\n",
    "    return A, b.reshape(-1, 1)\n",
    "\n",
    "A = np.array([ [ 1, 2, 3 ],\n",
    "               [ 2, 2, 3 ], \n",
    "               [ 1, 1, 3 ] ])\n",
    "\n",
    "b = np.array([ [ 12 ],\n",
    "               [ 15 ],\n",
    "               [ 9 ] ])\n",
    "\n",
    "gauss_without_pivot(*gauss_with_pivot(A, b))"
   ]
  }
 ],
 "metadata": {
  "kernelspec": {
   "display_name": "Python 3 (ipykernel)",
   "language": "python",
   "name": "python3"
  },
  "language_info": {
   "codemirror_mode": {
    "name": "ipython",
    "version": 3
   },
   "file_extension": ".py",
   "mimetype": "text/x-python",
   "name": "python",
   "nbconvert_exporter": "python",
   "pygments_lexer": "ipython3",
   "version": "3.9.13"
  }
 },
 "nbformat": 4,
 "nbformat_minor": 5
}
