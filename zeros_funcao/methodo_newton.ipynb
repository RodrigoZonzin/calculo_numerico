{
 "cells": [
  {
   "cell_type": "code",
   "execution_count": 1,
   "id": "1cd7c16c",
   "metadata": {},
   "outputs": [],
   "source": [
    "def gauss_elimination(A, b):\n",
    "    n = len(A)\n",
    "    \n",
    "    # Augmenting the matrix A with vector b\n",
    "    augmented_matrix = [A[i] + [b[i]] for i in range(n)]\n",
    "    \n",
    "    for col in range(n):\n",
    "        # Partial pivoting: Find the row with the maximum value in the current column\n",
    "        max_row = col\n",
    "        for i in range(col + 1, n):\n",
    "            if abs(augmented_matrix[i][col]) > abs(augmented_matrix[max_row][col]):\n",
    "                max_row = i\n",
    "        \n",
    "        # Swap the rows to move the maximum value to the current row\n",
    "        augmented_matrix[col], augmented_matrix[max_row] = augmented_matrix[max_row], augmented_matrix[col]\n",
    "        \n",
    "        # Make the diagonal elements 1\n",
    "        pivot = augmented_matrix[col][col]\n",
    "        for j in range(col, n + 1):\n",
    "            augmented_matrix[col][j] /= pivot\n",
    "        \n",
    "        # Eliminate other rows\n",
    "        for i in range(n):\n",
    "            if i != col:\n",
    "                factor = augmented_matrix[i][col]\n",
    "                for j in range(col, n + 1):\n",
    "                    augmented_matrix[i][j] -= factor * augmented_matrix[col][j]\n",
    "    \n",
    "    # Extract the solutions\n",
    "    solutions = [augmented_matrix[i][n] for i in range(n)]\n",
    "    \n",
    "    return solutions\n",
    "\n",
    "\n"
   ]
  },
  {
   "cell_type": "code",
   "execution_count": 4,
   "id": "5c6a11ee",
   "metadata": {},
   "outputs": [
    {
     "name": "stdout",
     "output_type": "stream",
     "text": [
      "Solution:\n",
      "x1 = -1.5714285714285714\n",
      "x2 = 0.14285714285714285\n"
     ]
    }
   ],
   "source": [
    "# Example usage:\n",
    "A = [[2, 1],\n",
    "     [1, -3]]\n",
    "\n",
    "b = [-3, -2]\n",
    "\n",
    "solutions = gauss_elimination(A, b)\n",
    "print(\"Solution:\")\n",
    "for i, sol in enumerate(solutions):\n",
    "    print(f\"x{i+1} = {sol}\")"
   ]
  },
  {
   "cell_type": "code",
   "execution_count": null,
   "id": "c7a3b7cb",
   "metadata": {},
   "outputs": [],
   "source": []
  }
 ],
 "metadata": {
  "kernelspec": {
   "display_name": "Python 3 (ipykernel)",
   "language": "python",
   "name": "python3"
  },
  "language_info": {
   "codemirror_mode": {
    "name": "ipython",
    "version": 3
   },
   "file_extension": ".py",
   "mimetype": "text/x-python",
   "name": "python",
   "nbconvert_exporter": "python",
   "pygments_lexer": "ipython3",
   "version": "3.9.13"
  }
 },
 "nbformat": 4,
 "nbformat_minor": 5
}
