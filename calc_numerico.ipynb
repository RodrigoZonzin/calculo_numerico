{
  "nbformat": 4,
  "nbformat_minor": 0,
  "metadata": {
    "colab": {
      "provenance": [],
      "authorship_tag": "ABX9TyOcZP2Y9FiKl4/dwDSbCoiq",
      "include_colab_link": true
    },
    "kernelspec": {
      "name": "python3",
      "display_name": "Python 3"
    },
    "language_info": {
      "name": "python"
    }
  },
  "cells": [
    {
      "cell_type": "markdown",
      "metadata": {
        "id": "view-in-github",
        "colab_type": "text"
      },
      "source": [
        "<a href=\"https://colab.research.google.com/github/RodrigoZonzin/calculo_numerico/blob/main/calc_numerico.ipynb\" target=\"_parent\"><img src=\"https://colab.research.google.com/assets/colab-badge.svg\" alt=\"Open In Colab\"/></a>"
      ]
    },
    {
      "cell_type": "code",
      "execution_count": null,
      "metadata": {
        "id": "Lcb8JJRxtaOL"
      },
      "outputs": [],
      "source": [
        "import math"
      ]
    },
    {
      "cell_type": "code",
      "source": [
        "f = lambda x: (2*x**2) + (3*x) -2\n",
        "\n",
        "df = lambda x: 4*x+3"
      ],
      "metadata": {
        "id": "tIPrxgMauFVi"
      },
      "execution_count": null,
      "outputs": []
    },
    {
      "cell_type": "code",
      "source": [
        "def newton(f, df, a, b, x0, erro):\n",
        "  if(x0 <= erro): print(\"Escolha outro valor para x0\");\n",
        "\n",
        "  x = x0;\n",
        "  i = 0;\n",
        "  while True:\n",
        "    xl = x - f(x)/df(x);\n",
        "\n",
        "    if abs(xl - x) < erro:\n",
        "      return xl, i;\n",
        "    x = xl\n",
        "\n",
        "    if (x < a) or (x > b):\n",
        "      raise(\"Raiz fora do intervalo [a,b]\")\n",
        "\n",
        "    i += 1\n"
      ],
      "metadata": {
        "id": "J2LUfbaKtbsi"
      },
      "execution_count": null,
      "outputs": []
    },
    {
      "cell_type": "code",
      "source": [
        "print(newton(f, df, 0, 2, 1, 1e-10))"
      ],
      "metadata": {
        "colab": {
          "base_uri": "https://localhost:8080/"
        },
        "id": "0iBTFfGfuOgq",
        "outputId": "51b00997-b5a2-4441-9ded-8e7cadedb11f"
      },
      "execution_count": null,
      "outputs": [
        {
          "output_type": "stream",
          "name": "stdout",
          "text": [
            "(0.49999999999999994, 4)\n"
          ]
        }
      ]
    },
    {
      "cell_type": "code",
      "source": [],
      "metadata": {
        "id": "LwYWVKLCypUY"
      },
      "execution_count": null,
      "outputs": []
    }
  ]
}